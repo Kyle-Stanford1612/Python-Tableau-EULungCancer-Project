{
 "cells": [
  {
   "cell_type": "markdown",
   "id": "146ba240-248e-4fe9-b284-de69911c9faa",
   "metadata": {},
   "source": [
    "# Linear Regression Analysis"
   ]
  },
  {
   "cell_type": "markdown",
   "id": "93cd0719-655a-4d54-a53b-11d97a3f5efc",
   "metadata": {},
   "source": [
    "This script contains the following:\n",
    "\n",
    "1. Import Libraries and Data\n",
    "2. Data Cleaning\n",
    "3. Exploratory Analysis - Scatterplot\n",
    "4. Hypothesis\n",
    "5. Reshape Variables into NumPy Arrays\n",
    "6. Split Data into Training and Test Sets\n",
    "7. Running the Linear Regression\n",
    "8. Visualising the model\n",
    "9. Interpretations\n",
    "10. Model Performance Checks\n",
    "11. Comparing Predicted and Actual Y Values\n",
    "12. Reflection on model's performance and bias\n",
    "\n",
    "**Note:** The goal for this regression analysis will be to see if a model can be designed to predict the duration of a survived patient's treatment based on how long it takes to start treatment from the diagnosis date (This does not relate to any of the project questions generated in exercise 6.1, but those questions are not suited for a regression analysis)"
   ]
  },
  {
   "cell_type": "markdown",
   "id": "561bcf5d-8afd-49e3-ad0b-3e0b5916c6e2",
   "metadata": {},
   "source": [
    "## 1. Import Libraries and Data"
   ]
  },
  {
   "cell_type": "code",
   "execution_count": 1,
   "id": "47370a37-1108-47aa-ad7b-9cf521ffd95f",
   "metadata": {},
   "outputs": [],
   "source": [
    "import pandas as pd\n",
    "import numpy as np\n",
    "import os\n",
    "import matplotlib.pyplot as plt\n",
    "import seaborn as sns\n",
    "import sklearn\n",
    "from sklearn.model_selection import train_test_split # for splitting the data into training and testing data sets\n",
    "from sklearn.linear_model import LinearRegression # for importing the Linear Regression Model\n",
    "from sklearn.metrics import mean_squared_error, r2_score # for calculating the model's statistics"
   ]
  },
  {
   "cell_type": "code",
   "execution_count": 2,
   "id": "4ce1c51e-532f-427c-a08a-e550b0fa4a58",
   "metadata": {},
   "outputs": [],
   "source": [
    "# Set path\n",
    "path = r'C:\\Users\\kyles\\CareerFoundary\\Data Immersion\\Achievement 6 - Advanced Analytics & Dashboard Design'"
   ]
  },
  {
   "cell_type": "code",
   "execution_count": 3,
   "id": "13216ba6-d9e1-4501-899b-21c8af1e08d3",
   "metadata": {},
   "outputs": [
    {
     "data": {
      "text/html": [
       "<div>\n",
       "<style scoped>\n",
       "    .dataframe tbody tr th:only-of-type {\n",
       "        vertical-align: middle;\n",
       "    }\n",
       "\n",
       "    .dataframe tbody tr th {\n",
       "        vertical-align: top;\n",
       "    }\n",
       "\n",
       "    .dataframe thead th {\n",
       "        text-align: right;\n",
       "    }\n",
       "</style>\n",
       "<table border=\"1\" class=\"dataframe\">\n",
       "  <thead>\n",
       "    <tr style=\"text-align: right;\">\n",
       "      <th></th>\n",
       "      <th>age</th>\n",
       "      <th>gender</th>\n",
       "      <th>country</th>\n",
       "      <th>diagnosis_date</th>\n",
       "      <th>cancer_stage</th>\n",
       "      <th>beginning_of_treatment_date</th>\n",
       "      <th>family_history</th>\n",
       "      <th>smoking_status</th>\n",
       "      <th>bmi</th>\n",
       "      <th>cholesterol_level</th>\n",
       "      <th>hypertension</th>\n",
       "      <th>asthma</th>\n",
       "      <th>cirrhosis</th>\n",
       "      <th>other_cancer</th>\n",
       "      <th>treatment_type</th>\n",
       "      <th>end_treatment_date</th>\n",
       "      <th>survived</th>\n",
       "      <th>days_to_start_treatment</th>\n",
       "      <th>days_under_treatment</th>\n",
       "      <th>Country GDP (per capita)</th>\n",
       "      <th>Country life expectancy</th>\n",
       "      <th>Country population</th>\n",
       "      <th>treatment_duration</th>\n",
       "    </tr>\n",
       "  </thead>\n",
       "  <tbody>\n",
       "    <tr>\n",
       "      <th>0</th>\n",
       "      <td>64</td>\n",
       "      <td>Female</td>\n",
       "      <td>Germany</td>\n",
       "      <td>2016-04-07</td>\n",
       "      <td>Stage III</td>\n",
       "      <td>2016-04-21</td>\n",
       "      <td>False</td>\n",
       "      <td>Never Smoked</td>\n",
       "      <td>31.09375</td>\n",
       "      <td>257</td>\n",
       "      <td>True</td>\n",
       "      <td>True</td>\n",
       "      <td>False</td>\n",
       "      <td>False</td>\n",
       "      <td>Combined</td>\n",
       "      <td>2017-11-15</td>\n",
       "      <td>False</td>\n",
       "      <td>14</td>\n",
       "      <td>573</td>\n",
       "      <td>42136.12079</td>\n",
       "      <td>80.990244</td>\n",
       "      <td>82348669</td>\n",
       "      <td>Long</td>\n",
       "    </tr>\n",
       "    <tr>\n",
       "      <th>1</th>\n",
       "      <td>54</td>\n",
       "      <td>Female</td>\n",
       "      <td>Germany</td>\n",
       "      <td>2016-12-15</td>\n",
       "      <td>Stage III</td>\n",
       "      <td>2016-12-22</td>\n",
       "      <td>False</td>\n",
       "      <td>Former Smoker</td>\n",
       "      <td>21.90625</td>\n",
       "      <td>191</td>\n",
       "      <td>True</td>\n",
       "      <td>True</td>\n",
       "      <td>False</td>\n",
       "      <td>False</td>\n",
       "      <td>Combined</td>\n",
       "      <td>2018-06-14</td>\n",
       "      <td>False</td>\n",
       "      <td>7</td>\n",
       "      <td>539</td>\n",
       "      <td>42136.12079</td>\n",
       "      <td>80.990244</td>\n",
       "      <td>82348669</td>\n",
       "      <td>Medium</td>\n",
       "    </tr>\n",
       "    <tr>\n",
       "      <th>2</th>\n",
       "      <td>61</td>\n",
       "      <td>Male</td>\n",
       "      <td>Germany</td>\n",
       "      <td>2016-07-14</td>\n",
       "      <td>Stage III</td>\n",
       "      <td>2016-07-27</td>\n",
       "      <td>True</td>\n",
       "      <td>Former Smoker</td>\n",
       "      <td>18.00000</td>\n",
       "      <td>211</td>\n",
       "      <td>False</td>\n",
       "      <td>False</td>\n",
       "      <td>False</td>\n",
       "      <td>False</td>\n",
       "      <td>Combined</td>\n",
       "      <td>2017-09-03</td>\n",
       "      <td>False</td>\n",
       "      <td>13</td>\n",
       "      <td>403</td>\n",
       "      <td>42136.12079</td>\n",
       "      <td>80.990244</td>\n",
       "      <td>82348669</td>\n",
       "      <td>Medium</td>\n",
       "    </tr>\n",
       "    <tr>\n",
       "      <th>3</th>\n",
       "      <td>47</td>\n",
       "      <td>Female</td>\n",
       "      <td>Germany</td>\n",
       "      <td>2016-03-19</td>\n",
       "      <td>Stage IV</td>\n",
       "      <td>2016-03-26</td>\n",
       "      <td>False</td>\n",
       "      <td>Current Smoker</td>\n",
       "      <td>39.50000</td>\n",
       "      <td>247</td>\n",
       "      <td>True</td>\n",
       "      <td>True</td>\n",
       "      <td>False</td>\n",
       "      <td>False</td>\n",
       "      <td>Chemotherapy</td>\n",
       "      <td>2017-04-06</td>\n",
       "      <td>False</td>\n",
       "      <td>7</td>\n",
       "      <td>376</td>\n",
       "      <td>42136.12079</td>\n",
       "      <td>80.990244</td>\n",
       "      <td>82348669</td>\n",
       "      <td>Medium</td>\n",
       "    </tr>\n",
       "    <tr>\n",
       "      <th>4</th>\n",
       "      <td>52</td>\n",
       "      <td>Male</td>\n",
       "      <td>Germany</td>\n",
       "      <td>2016-08-20</td>\n",
       "      <td>Stage II</td>\n",
       "      <td>2016-08-31</td>\n",
       "      <td>False</td>\n",
       "      <td>Former Smoker</td>\n",
       "      <td>39.31250</td>\n",
       "      <td>284</td>\n",
       "      <td>True</td>\n",
       "      <td>False</td>\n",
       "      <td>False</td>\n",
       "      <td>False</td>\n",
       "      <td>Combined</td>\n",
       "      <td>2018-01-23</td>\n",
       "      <td>False</td>\n",
       "      <td>11</td>\n",
       "      <td>510</td>\n",
       "      <td>42136.12079</td>\n",
       "      <td>80.990244</td>\n",
       "      <td>82348669</td>\n",
       "      <td>Medium</td>\n",
       "    </tr>\n",
       "  </tbody>\n",
       "</table>\n",
       "</div>"
      ],
      "text/plain": [
       "   age  gender  country diagnosis_date cancer_stage  \\\n",
       "0   64  Female  Germany     2016-04-07    Stage III   \n",
       "1   54  Female  Germany     2016-12-15    Stage III   \n",
       "2   61    Male  Germany     2016-07-14    Stage III   \n",
       "3   47  Female  Germany     2016-03-19     Stage IV   \n",
       "4   52    Male  Germany     2016-08-20     Stage II   \n",
       "\n",
       "  beginning_of_treatment_date  family_history  smoking_status       bmi  \\\n",
       "0                  2016-04-21           False    Never Smoked  31.09375   \n",
       "1                  2016-12-22           False   Former Smoker  21.90625   \n",
       "2                  2016-07-27            True   Former Smoker  18.00000   \n",
       "3                  2016-03-26           False  Current Smoker  39.50000   \n",
       "4                  2016-08-31           False   Former Smoker  39.31250   \n",
       "\n",
       "   cholesterol_level  hypertension  asthma  cirrhosis  other_cancer  \\\n",
       "0                257          True    True      False         False   \n",
       "1                191          True    True      False         False   \n",
       "2                211         False   False      False         False   \n",
       "3                247          True    True      False         False   \n",
       "4                284          True   False      False         False   \n",
       "\n",
       "  treatment_type end_treatment_date  survived  days_to_start_treatment  \\\n",
       "0       Combined         2017-11-15     False                       14   \n",
       "1       Combined         2018-06-14     False                        7   \n",
       "2       Combined         2017-09-03     False                       13   \n",
       "3   Chemotherapy         2017-04-06     False                        7   \n",
       "4       Combined         2018-01-23     False                       11   \n",
       "\n",
       "   days_under_treatment  Country GDP (per capita)  Country life expectancy  \\\n",
       "0                   573               42136.12079                80.990244   \n",
       "1                   539               42136.12079                80.990244   \n",
       "2                   403               42136.12079                80.990244   \n",
       "3                   376               42136.12079                80.990244   \n",
       "4                   510               42136.12079                80.990244   \n",
       "\n",
       "   Country population treatment_duration  \n",
       "0            82348669               Long  \n",
       "1            82348669             Medium  \n",
       "2            82348669             Medium  \n",
       "3            82348669             Medium  \n",
       "4            82348669             Medium  "
      ]
     },
     "execution_count": 3,
     "metadata": {},
     "output_type": "execute_result"
    }
   ],
   "source": [
    "# Import data\n",
    "df = pd.read_pickle(os.path.join(path, '02 Data', 'Prepared Data', 'Lung_cancer_merged_v1.pkl'))\n",
    "\n",
    "# Check\n",
    "pd.set_option('display.max_columns', None)\n",
    "df.head()"
   ]
  },
  {
   "cell_type": "code",
   "execution_count": 4,
   "id": "5dcea78b-8025-4616-baae-8fdd4c7204e3",
   "metadata": {},
   "outputs": [
    {
     "data": {
      "text/plain": [
       "(2842404, 23)"
      ]
     },
     "execution_count": 4,
     "metadata": {},
     "output_type": "execute_result"
    }
   ],
   "source": [
    "df.shape"
   ]
  },
  {
   "cell_type": "markdown",
   "id": "280cc041-6a37-493a-92b0-6972570c46f1",
   "metadata": {},
   "source": [
    "## 2. Data Cleaning"
   ]
  },
  {
   "cell_type": "markdown",
   "id": "685cf1eb-22dd-4cdb-8ee5-618f88e61c28",
   "metadata": {
    "jp-MarkdownHeadingCollapsed": true
   },
   "source": [
    "### Missing Values"
   ]
  },
  {
   "cell_type": "code",
   "execution_count": 5,
   "id": "1cb35ca8-d157-4929-ac48-190717d3b1fc",
   "metadata": {},
   "outputs": [
    {
     "data": {
      "text/plain": [
       "age                            0\n",
       "gender                         0\n",
       "country                        0\n",
       "diagnosis_date                 0\n",
       "cancer_stage                   0\n",
       "beginning_of_treatment_date    0\n",
       "family_history                 0\n",
       "smoking_status                 0\n",
       "bmi                            0\n",
       "cholesterol_level              0\n",
       "hypertension                   0\n",
       "asthma                         0\n",
       "cirrhosis                      0\n",
       "other_cancer                   0\n",
       "treatment_type                 0\n",
       "end_treatment_date             0\n",
       "survived                       0\n",
       "days_to_start_treatment        0\n",
       "days_under_treatment           0\n",
       "Country GDP (per capita)       0\n",
       "Country life expectancy        0\n",
       "Country population             0\n",
       "treatment_duration             0\n",
       "dtype: int64"
      ]
     },
     "execution_count": 5,
     "metadata": {},
     "output_type": "execute_result"
    }
   ],
   "source": [
    "df.isnull().sum()"
   ]
  },
  {
   "cell_type": "markdown",
   "id": "a585dbd9-831c-4cc9-b7d9-65d6ff37f923",
   "metadata": {},
   "source": [
    "No Missing Values"
   ]
  },
  {
   "cell_type": "markdown",
   "id": "43e237ca-8c6d-4c24-9e0b-7388eadd7869",
   "metadata": {
    "jp-MarkdownHeadingCollapsed": true
   },
   "source": [
    "### Duplicates"
   ]
  },
  {
   "cell_type": "code",
   "execution_count": 6,
   "id": "359ae8aa-1313-41cc-9cd6-cb006e4a2e17",
   "metadata": {},
   "outputs": [
    {
     "data": {
      "text/plain": [
       "False    2842404\n",
       "Name: count, dtype: int64"
      ]
     },
     "execution_count": 6,
     "metadata": {},
     "output_type": "execute_result"
    }
   ],
   "source": [
    "df.duplicated().value_counts(dropna=False)"
   ]
  },
  {
   "cell_type": "markdown",
   "id": "9a09bd14-9171-4215-9e5c-4c38daa8af8d",
   "metadata": {},
   "source": [
    "No Duplicates"
   ]
  },
  {
   "cell_type": "markdown",
   "id": "271eb722-5f4d-4d9a-97e8-b7cee010c087",
   "metadata": {},
   "source": [
    "### Subsetting"
   ]
  },
  {
   "cell_type": "markdown",
   "id": "40152111-df5c-455b-b303-1dafd103c9d8",
   "metadata": {},
   "source": [
    "- Since I know I want my correlation to focus on predicting treatment duration based on days to start streatment for survived patients, I am going to subset the data to only include survived patients. I may also later create further subsets to focus on specific cancer stages and/or treatment types (or leave this until the final task, the Tableau Storyboard)"
   ]
  },
  {
   "cell_type": "code",
   "execution_count": 7,
   "id": "9fe17f32-3680-46f3-87aa-2a5fbeeb6e1f",
   "metadata": {},
   "outputs": [
    {
     "data": {
      "text/plain": [
       "survived\n",
       "True    624605\n",
       "Name: count, dtype: int64"
      ]
     },
     "execution_count": 7,
     "metadata": {},
     "output_type": "execute_result"
    }
   ],
   "source": [
    "df_survived = df[df['survived'] == True]\n",
    "df_survived['survived'].value_counts(dropna=False)"
   ]
  },
  {
   "cell_type": "markdown",
   "id": "5171d878-89f5-489a-ab33-9d59be903b79",
   "metadata": {
    "jp-MarkdownHeadingCollapsed": true
   },
   "source": [
    "### Outliers"
   ]
  },
  {
   "cell_type": "markdown",
   "id": "b9fd37d3-3c3c-412e-b51e-c076205c2396",
   "metadata": {},
   "source": [
    "I will use histograms to check for outliers in the \"days_to_start_treatment\" variables and \"days_under_treatment\" variable"
   ]
  },
  {
   "cell_type": "code",
   "execution_count": 8,
   "id": "32bdae42-0998-41c5-9c79-fc5e0ccc93c2",
   "metadata": {},
   "outputs": [
    {
     "data": {
      "text/plain": [
       "<Axes: xlabel='days_under_treatment', ylabel='Count'>"
      ]
     },
     "execution_count": 8,
     "metadata": {},
     "output_type": "execute_result"
    },
    {
     "data": {
      "image/png": "[encoded data removed]",
      "text/plain": [
       "<Figure size 640x480 with 1 Axes>"
      ]
     },
     "metadata": {},
     "output_type": "display_data"
    }
   ],
   "source": [
    "sns.histplot(df_survived['days_under_treatment'], bins = 25, kde=True)"
   ]
  },
  {
   "cell_type": "code",
   "execution_count": 9,
   "id": "24b9bb5c-3238-4e78-b1b6-be366ed8c652",
   "metadata": {},
   "outputs": [
    {
     "data": {
      "text/plain": [
       "<Axes: xlabel='days_to_start_treatment', ylabel='Count'>"
      ]
     },
     "execution_count": 9,
     "metadata": {},
     "output_type": "execute_result"
    },
    {
     "data": {
      "image/png": "[encoded data removed]",
      "text/plain": [
       "<Figure size 640x480 with 1 Axes>"
      ]
     },
     "metadata": {},
     "output_type": "display_data"
    }
   ],
   "source": [
    "sns.histplot(df_survived['days_to_start_treatment'], bins=25, kde=True)"
   ]
  },
  {
   "cell_type": "markdown",
   "id": "337b0ebd-30dd-4dec-8148-837257bdb766",
   "metadata": {},
   "source": [
    "Based on the histograms, it would seem that there aren't any extreme values for either variable."
   ]
  },
  {
   "cell_type": "markdown",
   "id": "a7f4bfa0-ac9a-42f1-b1b9-706e689b039a",
   "metadata": {},
   "source": [
    "## 3. Exploratory Analysis - Scatterplot"
   ]
  },
  {
   "cell_type": "code",
   "execution_count": 10,
   "id": "5ac606e2-5657-4e12-acc6-17a0abd4acd3",
   "metadata": {},
   "outputs": [
    {
     "data": {
      "image/png": "[encoded data removed]",
      "text/plain": [
       "<Figure size 640x480 with 1 Axes>"
      ]
     },
     "metadata": {},
     "output_type": "display_data"
    }
   ],
   "source": [
    "# Check 'days_to_start_treatment' and 'days_under_treatment'\n",
    "\n",
    "df_survived.plot(x = 'days_to_start_treatment', y = 'days_under_treatment', style = 'o')\n",
    "plt.title('Days to start treatment from diagnosis vs Days under treatment (survived patients)')\n",
    "plt.xlabel('Days to start treatment')\n",
    "plt.ylabel('Days under treatment')\n",
    "plt.show()"
   ]
  },
  {
   "cell_type": "code",
   "execution_count": 11,
   "id": "f931d91d-d23f-4fc4-a036-ecaadfeb0acc",
   "metadata": {},
   "outputs": [],
   "source": [
    "# further subset df_survived to focus on patients who were diagnosed with different cancer stages\n",
    "df_survived_1 = df_survived[df_survived['cancer_stage'] == 'Stage I']\n",
    "df_survived_2 = df_survived[df_survived['cancer_stage'] == 'Stage II']\n",
    "df_survived_3 = df_survived[df_survived['cancer_stage'] == 'Stage III']\n",
    "df_survived_4 = df_survived[df_survived['cancer_stage'] == 'Stage IV']"
   ]
  },
  {
   "cell_type": "code",
   "execution_count": 12,
   "id": "47cd49a9-3ca4-4e83-9458-4b5c5385c77d",
   "metadata": {},
   "outputs": [
    {
     "data": {
      "text/plain": [
       "cancer_stage\n",
       "Stage I    153496\n",
       "Name: count, dtype: int64"
      ]
     },
     "execution_count": 12,
     "metadata": {},
     "output_type": "execute_result"
    }
   ],
   "source": [
    "df_survived_1['cancer_stage'].value_counts(dropna=False)"
   ]
  },
  {
   "cell_type": "code",
   "execution_count": 13,
   "id": "0b4974ac-b4c0-466b-9dab-955d48b33647",
   "metadata": {},
   "outputs": [
    {
     "data": {
      "text/plain": [
       "cancer_stage\n",
       "Stage II    155329\n",
       "Name: count, dtype: int64"
      ]
     },
     "execution_count": 13,
     "metadata": {},
     "output_type": "execute_result"
    }
   ],
   "source": [
    "df_survived_2['cancer_stage'].value_counts(dropna=False)"
   ]
  },
  {
   "cell_type": "code",
   "execution_count": 14,
   "id": "8648feba-7b9a-4002-ab10-0621f75ef37d",
   "metadata": {},
   "outputs": [
    {
     "data": {
      "text/plain": [
       "cancer_stage\n",
       "Stage III    156603\n",
       "Name: count, dtype: int64"
      ]
     },
     "execution_count": 14,
     "metadata": {},
     "output_type": "execute_result"
    }
   ],
   "source": [
    "df_survived_3['cancer_stage'].value_counts(dropna=False)"
   ]
  },
  {
   "cell_type": "code",
   "execution_count": 15,
   "id": "3a2f7b1f-6600-4ea5-ac2e-2f7e444428ff",
   "metadata": {},
   "outputs": [
    {
     "data": {
      "text/plain": [
       "cancer_stage\n",
       "Stage IV    159177\n",
       "Name: count, dtype: int64"
      ]
     },
     "execution_count": 15,
     "metadata": {},
     "output_type": "execute_result"
    }
   ],
   "source": [
    "df_survived_4['cancer_stage'].value_counts(dropna=False)"
   ]
  },
  {
   "cell_type": "code",
   "execution_count": 16,
   "id": "4ecf94e7-e35e-46c1-b6fd-cfa7cee7a2ee",
   "metadata": {},
   "outputs": [
    {
     "data": {
      "text/plain": [
       "Text(0, 0.5, 'Days Under Treatment')"
      ]
     },
     "execution_count": 16,
     "metadata": {},
     "output_type": "execute_result"
    },
    {
     "data": {
      "image/png": "[encoded data removed]",
      "text/plain": [
       "<Figure size 1500x1500 with 4 Axes>"
      ]
     },
     "metadata": {},
     "output_type": "display_data"
    }
   ],
   "source": [
    "# Create scatterplot for one of the new subsets of survived patients\n",
    "\n",
    "fig, axs = plt.subplots(2, 2, figsize=(15, 15))\n",
    "\n",
    "axs[0, 0].scatter(df_survived_1['days_to_start_treatment'], df_survived_1['days_under_treatment'], s=10)\n",
    "axs[0, 0].set_title('Days to Start Treatment vs Days Under Treatment - Stage 1')\n",
    "axs[0, 0].set_xlabel('Days to Start Treatment')\n",
    "axs[0, 0].set_ylabel('Days Under Treatment')\n",
    "\n",
    "axs[0, 1].scatter(df_survived_2['days_to_start_treatment'], df_survived_2['days_under_treatment'], s=10)\n",
    "axs[0, 1].set_title('Days to Start Treatment vs Days Under Treatment - Stage 2')\n",
    "axs[0, 1].set_xlabel('Days to Start Treatment')\n",
    "axs[0, 1].set_ylabel('Days Under Treatment')\n",
    "\n",
    "axs[1, 0].scatter(df_survived_3['days_to_start_treatment'], df_survived_3['days_under_treatment'], s=10)\n",
    "axs[1, 0].set_title('Days to Start Treatment vs Days Under Treatment - Stage 3')\n",
    "axs[1, 0].set_xlabel('Days to Start Treatment')\n",
    "axs[1, 0].set_ylabel('Days Under Treatment')\n",
    "\n",
    "axs[1, 1].scatter(df_survived_4['days_to_start_treatment'], df_survived_4['days_under_treatment'], s=10)\n",
    "axs[1, 1].set_title('Days to Start Treatment vs Days Under Treatment - Stage 4')\n",
    "axs[1, 1].set_xlabel('Days to Start Treatment')\n",
    "axs[1, 1].set_ylabel('Days Under Treatment')"
   ]
  },
  {
   "cell_type": "markdown",
   "id": "e7d1f0d8-621c-4626-b280-3dc33a9a5ea0",
   "metadata": {},
   "source": [
    "## 4. Hypothesis"
   ]
  },
  {
   "cell_type": "markdown",
   "id": "a6add3cf-c9c9-47cb-9fae-e6764fa92894",
   "metadata": {},
   "source": [
    "If I had to make a hypothesis based on the above scatterplot, it would be:\n",
    "\n",
    "**\"If the number of days it takes to start a patients treatment increases, then the number of days the patient is under treatment will decrease if they survive\"**\n",
    "\n",
    "- I am aware this doesn't make much sense in reality, but i notice a slight downward trend in the above scatterplot.\n",
    "\n",
    "If the project data came from a real source, I would expect to make a hypothesis more along the lines of:\n",
    "\n",
    "**If the number of days it takes to start a patients treatment increases, then the number of days the patient is under treatment will increase if they survive**\n",
    "\n",
    "- This would be more in lines with real expectations since delaying treatment can allow the cancer to progress and be potentially harder to treat."
   ]
  },
  {
   "cell_type": "markdown",
   "id": "f40914b2-6bb8-427c-b681-44a85b603ffd",
   "metadata": {},
   "source": [
    "## 5. Reshape Variables into NumPy Arrays"
   ]
  },
  {
   "cell_type": "code",
   "execution_count": 17,
   "id": "8fbb42f1-1af0-4454-ba04-c0b31e4e825e",
   "metadata": {},
   "outputs": [],
   "source": [
    "# Arrays for Stage 1 patients\n",
    "X1 = df_survived_1['days_to_start_treatment'].values.reshape(-1,1)\n",
    "y1 = df_survived_1['days_under_treatment'].values.reshape(-1,1)\n",
    "\n",
    "# Arrays for Stage 2 patients\n",
    "X2 = df_survived_2['days_to_start_treatment'].values.reshape(-1,1)\n",
    "y2 = df_survived_2['days_under_treatment'].values.reshape(-1,1)\n",
    "\n",
    "# Arrays for Stage 3 patients\n",
    "X3 = df_survived_3['days_to_start_treatment'].values.reshape(-1,1)\n",
    "y3 = df_survived_3['days_under_treatment'].values.reshape(-1,1)\n",
    "\n",
    "# Arrays for Stage 4 patients\n",
    "X4 = df_survived_4['days_to_start_treatment'].values.reshape(-1,1)\n",
    "y4 = df_survived_4['days_under_treatment'].values.reshape(-1,1)"
   ]
  },
  {
   "cell_type": "code",
   "execution_count": 18,
   "id": "77529e7d-ff11-4d33-a5fe-eb3713fad477",
   "metadata": {},
   "outputs": [
    {
     "data": {
      "text/plain": [
       "array([[28],\n",
       "       [ 4],\n",
       "       [ 3],\n",
       "       ...,\n",
       "       [18],\n",
       "       [19],\n",
       "       [28]], dtype=int64)"
      ]
     },
     "execution_count": 18,
     "metadata": {},
     "output_type": "execute_result"
    }
   ],
   "source": [
    "# Perform some checks \n",
    "X1"
   ]
  },
  {
   "cell_type": "code",
   "execution_count": 19,
   "id": "2b52481c-fd08-4fa0-95d1-72225191e869",
   "metadata": {},
   "outputs": [
    {
     "data": {
      "text/plain": [
       "array([[1],\n",
       "       [7],\n",
       "       [1],\n",
       "       ...,\n",
       "       [7],\n",
       "       [2],\n",
       "       [1]], dtype=int64)"
      ]
     },
     "execution_count": 19,
     "metadata": {},
     "output_type": "execute_result"
    }
   ],
   "source": [
    "X4"
   ]
  },
  {
   "cell_type": "code",
   "execution_count": 20,
   "id": "19bf7ebb-7a89-44e2-9ae5-dd669adcb31b",
   "metadata": {},
   "outputs": [
    {
     "data": {
      "text/plain": [
       "array([[593],\n",
       "       [382],\n",
       "       [419],\n",
       "       ...,\n",
       "       [370],\n",
       "       [380],\n",
       "       [361]], dtype=int64)"
      ]
     },
     "execution_count": 20,
     "metadata": {},
     "output_type": "execute_result"
    }
   ],
   "source": [
    "y1"
   ]
  },
  {
   "cell_type": "code",
   "execution_count": 21,
   "id": "7d1fd122-9e93-4e85-add9-cac6a21b57ec",
   "metadata": {},
   "outputs": [
    {
     "data": {
      "text/plain": [
       "array([[461],\n",
       "       [384],\n",
       "       [301],\n",
       "       ...,\n",
       "       [269],\n",
       "       [189],\n",
       "       [409]], dtype=int64)"
      ]
     },
     "execution_count": 21,
     "metadata": {},
     "output_type": "execute_result"
    }
   ],
   "source": [
    "y4"
   ]
  },
  {
   "cell_type": "markdown",
   "id": "1803d2e2-27a2-4662-aa62-71ae7374cdf5",
   "metadata": {},
   "source": [
    "## 6. Split Data into Training and Test Sets"
   ]
  },
  {
   "cell_type": "code",
   "execution_count": 22,
   "id": "c40f2a96-e0f0-4166-b69e-443e3667845c",
   "metadata": {},
   "outputs": [],
   "source": [
    "# For Stage 1\n",
    "X1_train, X1_test, y1_train, y1_test = train_test_split(X1, y1, test_size=0.3, random_state=0)"
   ]
  },
  {
   "cell_type": "markdown",
   "id": "f0dc636e-92be-41ef-b247-ca107e35e191",
   "metadata": {},
   "source": [
    "# 7. Running the Linear Regression"
   ]
  },
  {
   "cell_type": "code",
   "execution_count": 23,
   "id": "51949ab2-3168-4c00-a3af-39e72eaf64fe",
   "metadata": {},
   "outputs": [],
   "source": [
    "# Create a regression object\n",
    "regression = LinearRegression()"
   ]
  },
  {
   "cell_type": "code",
   "execution_count": 24,
   "id": "87636940-d5e8-4cd2-8f8a-9d05626d6426",
   "metadata": {},
   "outputs": [
    {
     "data": {
      "text/html": [
       "<style>#sk-container-id-1 {color: black;background-color: white;}#sk-container-id-1 pre{padding: 0;}#sk-container-id-1 div.sk-toggleable {background-color: white;}#sk-container-id-1 label.sk-toggleable__label {cursor: pointer;display: block;width: 100%;margin-bottom: 0;padding: 0.3em;box-sizing: border-box;text-align: center;}#sk-container-id-1 label.sk-toggleable__label-arrow:before {content: \"▸\";float: left;margin-right: 0.25em;color: #696969;}#sk-container-id-1 label.sk-toggleable__label-arrow:hover:before {color: black;}#sk-container-id-1 div.sk-estimator:hover label.sk-toggleable__label-arrow:before {color: black;}#sk-container-id-1 div.sk-toggleable__content {max-height: 0;max-width: 0;overflow: hidden;text-align: left;background-color: #f0f8ff;}#sk-container-id-1 div.sk-toggleable__content pre {margin: 0.2em;color: black;border-radius: 0.25em;background-color: #f0f8ff;}#sk-container-id-1 input.sk-toggleable__control:checked~div.sk-toggleable__content {max-height: 200px;max-width: 100%;overflow: auto;}#sk-container-id-1 input.sk-toggleable__control:checked~label.sk-toggleable__label-arrow:before {content: \"▾\";}#sk-container-id-1 div.sk-estimator input.sk-toggleable__control:checked~label.sk-toggleable__label {background-color: #d4ebff;}#sk-container-id-1 div.sk-label input.sk-toggleable__control:checked~label.sk-toggleable__label {background-color: #d4ebff;}#sk-container-id-1 input.sk-hidden--visually {border: 0;clip: rect(1px 1px 1px 1px);clip: rect(1px, 1px, 1px, 1px);height: 1px;margin: -1px;overflow: hidden;padding: 0;position: absolute;width: 1px;}#sk-container-id-1 div.sk-estimator {font-family: monospace;background-color: #f0f8ff;border: 1px dotted black;border-radius: 0.25em;box-sizing: border-box;margin-bottom: 0.5em;}#sk-container-id-1 div.sk-estimator:hover {background-color: #d4ebff;}#sk-container-id-1 div.sk-parallel-item::after {content: \"\";width: 100%;border-bottom: 1px solid gray;flex-grow: 1;}#sk-container-id-1 div.sk-label:hover label.sk-toggleable__label {background-color: #d4ebff;}#sk-container-id-1 div.sk-serial::before {content: \"\";position: absolute;border-left: 1px solid gray;box-sizing: border-box;top: 0;bottom: 0;left: 50%;z-index: 0;}#sk-container-id-1 div.sk-serial {display: flex;flex-direction: column;align-items: center;background-color: white;padding-right: 0.2em;padding-left: 0.2em;position: relative;}#sk-container-id-1 div.sk-item {position: relative;z-index: 1;}#sk-container-id-1 div.sk-parallel {display: flex;align-items: stretch;justify-content: center;background-color: white;position: relative;}#sk-container-id-1 div.sk-item::before, #sk-container-id-1 div.sk-parallel-item::before {content: \"\";position: absolute;border-left: 1px solid gray;box-sizing: border-box;top: 0;bottom: 0;left: 50%;z-index: -1;}#sk-container-id-1 div.sk-parallel-item {display: flex;flex-direction: column;z-index: 1;position: relative;background-color: white;}#sk-container-id-1 div.sk-parallel-item:first-child::after {align-self: flex-end;width: 50%;}#sk-container-id-1 div.sk-parallel-item:last-child::after {align-self: flex-start;width: 50%;}#sk-container-id-1 div.sk-parallel-item:only-child::after {width: 0;}#sk-container-id-1 div.sk-dashed-wrapped {border: 1px dashed gray;margin: 0 0.4em 0.5em 0.4em;box-sizing: border-box;padding-bottom: 0.4em;background-color: white;}#sk-container-id-1 div.sk-label label {font-family: monospace;font-weight: bold;display: inline-block;line-height: 1.2em;}#sk-container-id-1 div.sk-label-container {text-align: center;}#sk-container-id-1 div.sk-container {/* jupyter's `normalize.less` sets `[hidden] { display: none; }` but bootstrap.min.css set `[hidden] { display: none !important; }` so we also need the `!important` here to be able to override the default hidden behavior on the sphinx rendered scikit-learn.org. See: https://github.com/scikit-learn/scikit-learn/issues/21755 */display: inline-block !important;position: relative;}#sk-container-id-1 div.sk-text-repr-fallback {display: none;}</style><div id=\"sk-container-id-1\" class=\"sk-top-container\"><div class=\"sk-text-repr-fallback\"><pre>LinearRegression()</pre><b>In a Jupyter environment, please rerun this cell to show the HTML representation or trust the notebook. <br />On GitHub, the HTML representation is unable to render, please try loading this page with nbviewer.org.</b></div><div class=\"sk-container\" hidden><div class=\"sk-item\"><div class=\"sk-estimator sk-toggleable\"><input class=\"sk-toggleable__control sk-hidden--visually\" id=\"sk-estimator-id-1\" type=\"checkbox\" checked><label for=\"sk-estimator-id-1\" class=\"sk-toggleable__label sk-toggleable__label-arrow\">LinearRegression</label><div class=\"sk-toggleable__content\"><pre>LinearRegression()</pre></div></div></div></div></div>"
      ],
      "text/plain": [
       "LinearRegression()"
      ]
     },
     "execution_count": 24,
     "metadata": {},
     "output_type": "execute_result"
    }
   ],
   "source": [
    "# fit regression object onto training data for Stage 1\n",
    "regression.fit(X1_train, y1_train)"
   ]
  },
  {
   "cell_type": "code",
   "execution_count": 25,
   "id": "37dd4b83-7d07-452e-a62f-241929884004",
   "metadata": {},
   "outputs": [],
   "source": [
    "# Predict values of days_under_treatment in the test data\n",
    "y1_predicted = regression.predict(X1_test)"
   ]
  },
  {
   "cell_type": "markdown",
   "id": "76149e39-1d57-4027-aa5a-768054e45df1",
   "metadata": {},
   "source": [
    "## 8. Visualising the Model"
   ]
  },
  {
   "cell_type": "code",
   "execution_count": 26,
   "id": "d397af09-8ff8-44d0-b1d4-ab60e0ca9312",
   "metadata": {},
   "outputs": [
    {
     "data": {
      "image/png": "[encoded data removed]",
      "text/plain": [
       "<Figure size 640x480 with 1 Axes>"
      ]
     },
     "metadata": {},
     "output_type": "display_data"
    }
   ],
   "source": [
    "# Create a scatterplot of the test set with the regression line over it\n",
    "\n",
    "plot_test = plt\n",
    "plot_test.scatter(X1_test, y1_test, color='gray', s=15)\n",
    "plot_test.plot(X1_test, y1_predicted, color='red', linewidth = 3)\n",
    "plot_test.title(\"Days to start treatment VS Days under treatment (test set)\")\n",
    "plot_test.xlabel(\"Days to start treatment\")\n",
    "plot_test.ylabel(\"Days under treatment\")\n",
    "plot_test.show()"
   ]
  },
  {
   "cell_type": "markdown",
   "id": "d3aa4e7a-ee90-444e-816a-b2f33bc8dae2",
   "metadata": {},
   "source": [
    "## 9. Interpretations"
   ]
  },
  {
   "cell_type": "markdown",
   "id": "45aafa93-a289-412a-8702-eed8fb971b08",
   "metadata": {},
   "source": [
    "Obviously, the regression line does not fit the data very well (not that any line could). However, the regression lines trends downwards in much the same manner as the maximum and minimum values in 'days_under_treatment'. Assuming this is not just a flaw in the method of data generation (which it probably is), this may imply that hospitals have a set window of time they can work with a patient from diagnosis. Consequently, this would lower the the total number of days under treatment for patients who take longer to start the treatment after being diagnosed. However, the idea that a hospital would release patients with this in mind as opposed to seeing a treatment through to its conclusion is a bit ridiculous.\n",
    "\n",
    "However, the extreme spread of data points would highlight there are many other factors contributing to the treatment duration (things like patient lifestyle, family history, various biological markers, hospital staff expertise, etc...)."
   ]
  },
  {
   "cell_type": "markdown",
   "id": "8888baec-39c9-4f3f-bfee-d4a8200a25f2",
   "metadata": {},
   "source": [
    "## 10. Model Performance Checks"
   ]
  },
  {
   "cell_type": "code",
   "execution_count": 27,
   "id": "2afae253-2a5b-445e-9a60-99b10d3c14d2",
   "metadata": {},
   "outputs": [],
   "source": [
    "# Create objects that hold the model's summary statistics for cancer stage 1 patients\n",
    "\n",
    "rmse_1 = mean_squared_error(y1_predicted, y1_test)\n",
    "r2_1 = r2_score(y1_predicted, y1_test)"
   ]
  },
  {
   "cell_type": "code",
   "execution_count": 28,
   "id": "b3642ecd-2d9e-4d41-8a26-0483666b56d6",
   "metadata": {},
   "outputs": [
    {
     "name": "stdout",
     "output_type": "stream",
     "text": [
      "Stage 1 Patients: RMSE = 16477.321780357794, R2 = -224.61799915729316, Slope: [[-0.98971335]]\n"
     ]
    }
   ],
   "source": [
    "# Print results\n",
    "\n",
    "print(f\"Stage 1 Patients: RMSE = {rmse_1}, R2 = {r2_1}, Slope: {regression.coef_}\")"
   ]
  },
  {
   "cell_type": "markdown",
   "id": "1337f3ef-b981-4bc4-a157-788080990fd2",
   "metadata": {},
   "source": [
    "## 12. Comparing Predicted and Actual Y Values"
   ]
  },
  {
   "cell_type": "code",
   "execution_count": 29,
   "id": "c9b72610-53de-472c-bf23-b721654a1a50",
   "metadata": {},
   "outputs": [
    {
     "data": {
      "text/html": [
       "<div>\n",
       "<style scoped>\n",
       "    .dataframe tbody tr th:only-of-type {\n",
       "        vertical-align: middle;\n",
       "    }\n",
       "\n",
       "    .dataframe tbody tr th {\n",
       "        vertical-align: top;\n",
       "    }\n",
       "\n",
       "    .dataframe thead th {\n",
       "        text-align: right;\n",
       "    }\n",
       "</style>\n",
       "<table border=\"1\" class=\"dataframe\">\n",
       "  <thead>\n",
       "    <tr style=\"text-align: right;\">\n",
       "      <th></th>\n",
       "      <th>Actual</th>\n",
       "      <th>Predicted</th>\n",
       "    </tr>\n",
       "  </thead>\n",
       "  <tbody>\n",
       "    <tr>\n",
       "      <th>0</th>\n",
       "      <td>571</td>\n",
       "      <td>487.845491</td>\n",
       "    </tr>\n",
       "    <tr>\n",
       "      <th>1</th>\n",
       "      <td>709</td>\n",
       "      <td>501.701478</td>\n",
       "    </tr>\n",
       "    <tr>\n",
       "      <th>2</th>\n",
       "      <td>510</td>\n",
       "      <td>487.845491</td>\n",
       "    </tr>\n",
       "    <tr>\n",
       "      <th>3</th>\n",
       "      <td>302</td>\n",
       "      <td>491.804344</td>\n",
       "    </tr>\n",
       "    <tr>\n",
       "      <th>4</th>\n",
       "      <td>313</td>\n",
       "      <td>476.958644</td>\n",
       "    </tr>\n",
       "    <tr>\n",
       "      <th>5</th>\n",
       "      <td>583</td>\n",
       "      <td>479.927784</td>\n",
       "    </tr>\n",
       "    <tr>\n",
       "      <th>6</th>\n",
       "      <td>454</td>\n",
       "      <td>495.763197</td>\n",
       "    </tr>\n",
       "    <tr>\n",
       "      <th>7</th>\n",
       "      <td>622</td>\n",
       "      <td>481.907210</td>\n",
       "    </tr>\n",
       "    <tr>\n",
       "      <th>8</th>\n",
       "      <td>444</td>\n",
       "      <td>490.814631</td>\n",
       "    </tr>\n",
       "    <tr>\n",
       "      <th>9</th>\n",
       "      <td>655</td>\n",
       "      <td>487.845491</td>\n",
       "    </tr>\n",
       "    <tr>\n",
       "      <th>10</th>\n",
       "      <td>367</td>\n",
       "      <td>499.722051</td>\n",
       "    </tr>\n",
       "    <tr>\n",
       "      <th>11</th>\n",
       "      <td>519</td>\n",
       "      <td>503.680904</td>\n",
       "    </tr>\n",
       "    <tr>\n",
       "      <th>12</th>\n",
       "      <td>606</td>\n",
       "      <td>500.711764</td>\n",
       "    </tr>\n",
       "    <tr>\n",
       "      <th>13</th>\n",
       "      <td>689</td>\n",
       "      <td>503.680904</td>\n",
       "    </tr>\n",
       "    <tr>\n",
       "      <th>14</th>\n",
       "      <td>422</td>\n",
       "      <td>505.660331</td>\n",
       "    </tr>\n",
       "    <tr>\n",
       "      <th>15</th>\n",
       "      <td>377</td>\n",
       "      <td>496.752911</td>\n",
       "    </tr>\n",
       "    <tr>\n",
       "      <th>16</th>\n",
       "      <td>622</td>\n",
       "      <td>501.701478</td>\n",
       "    </tr>\n",
       "    <tr>\n",
       "      <th>17</th>\n",
       "      <td>376</td>\n",
       "      <td>493.783771</td>\n",
       "    </tr>\n",
       "    <tr>\n",
       "      <th>18</th>\n",
       "      <td>340</td>\n",
       "      <td>476.958644</td>\n",
       "    </tr>\n",
       "    <tr>\n",
       "      <th>19</th>\n",
       "      <td>709</td>\n",
       "      <td>499.722051</td>\n",
       "    </tr>\n",
       "    <tr>\n",
       "      <th>20</th>\n",
       "      <td>383</td>\n",
       "      <td>499.722051</td>\n",
       "    </tr>\n",
       "    <tr>\n",
       "      <th>21</th>\n",
       "      <td>386</td>\n",
       "      <td>498.732337</td>\n",
       "    </tr>\n",
       "    <tr>\n",
       "      <th>22</th>\n",
       "      <td>515</td>\n",
       "      <td>487.845491</td>\n",
       "    </tr>\n",
       "    <tr>\n",
       "      <th>23</th>\n",
       "      <td>383</td>\n",
       "      <td>500.711764</td>\n",
       "    </tr>\n",
       "    <tr>\n",
       "      <th>24</th>\n",
       "      <td>473</td>\n",
       "      <td>498.732337</td>\n",
       "    </tr>\n",
       "    <tr>\n",
       "      <th>25</th>\n",
       "      <td>470</td>\n",
       "      <td>493.783771</td>\n",
       "    </tr>\n",
       "    <tr>\n",
       "      <th>26</th>\n",
       "      <td>573</td>\n",
       "      <td>501.701478</td>\n",
       "    </tr>\n",
       "    <tr>\n",
       "      <th>27</th>\n",
       "      <td>468</td>\n",
       "      <td>483.886637</td>\n",
       "    </tr>\n",
       "    <tr>\n",
       "      <th>28</th>\n",
       "      <td>585</td>\n",
       "      <td>501.701478</td>\n",
       "    </tr>\n",
       "    <tr>\n",
       "      <th>29</th>\n",
       "      <td>516</td>\n",
       "      <td>477.948357</td>\n",
       "    </tr>\n",
       "  </tbody>\n",
       "</table>\n",
       "</div>"
      ],
      "text/plain": [
       "    Actual   Predicted\n",
       "0      571  487.845491\n",
       "1      709  501.701478\n",
       "2      510  487.845491\n",
       "3      302  491.804344\n",
       "4      313  476.958644\n",
       "5      583  479.927784\n",
       "6      454  495.763197\n",
       "7      622  481.907210\n",
       "8      444  490.814631\n",
       "9      655  487.845491\n",
       "10     367  499.722051\n",
       "11     519  503.680904\n",
       "12     606  500.711764\n",
       "13     689  503.680904\n",
       "14     422  505.660331\n",
       "15     377  496.752911\n",
       "16     622  501.701478\n",
       "17     376  493.783771\n",
       "18     340  476.958644\n",
       "19     709  499.722051\n",
       "20     383  499.722051\n",
       "21     386  498.732337\n",
       "22     515  487.845491\n",
       "23     383  500.711764\n",
       "24     473  498.732337\n",
       "25     470  493.783771\n",
       "26     573  501.701478\n",
       "27     468  483.886637\n",
       "28     585  501.701478\n",
       "29     516  477.948357"
      ]
     },
     "execution_count": 29,
     "metadata": {},
     "output_type": "execute_result"
    }
   ],
   "source": [
    "data = pd.DataFrame({'Actual' : y1_test.flatten(), 'Predicted' : y1_predicted.flatten()})\n",
    "data.head(30)"
   ]
  },
  {
   "cell_type": "markdown",
   "id": "665a6756-5c4e-4aea-8e93-c6fce3846921",
   "metadata": {},
   "source": [
    "## 13. Reflection on Model's Performance and Bias"
   ]
  },
  {
   "cell_type": "markdown",
   "id": "40ff1276-09ae-4bb0-a349-2cc73ea755c9",
   "metadata": {},
   "source": [
    "It was mostly expected that the model would not fit the data very well due to the issues inherent in the data's generation. This expectation was met for the following reasons:\n",
    "\n",
    "- **Mean Squared Error:** There is a high amount of error in how well the regression line fits the test data\n",
    "- **R2 Score:** This is actually negative meaning the model fits extremely poorly\n",
    "\n",
    "Overall, I believe this is largely due to the fact that the data owner's clain that the data \"closely reflects reality\" is simply untrue for many of its aspects. But in reality, a weak relationship could still be observed due to a broad spectrum of variables from the patient's lifestyle, biological markers, and hospital staff expertise.\n",
    "\n",
    "Bias is also difficult to judge. In a real version of this data, factors including the way patient survival is measured would have to be considered. For instance, some hospitals may release \"survived\" patients because they exhausted treatment and could not continue being treated but soon after passed away. These intricacies can greatly impact the data and any insights to be gleaned from it."
   ]
  },
  {
   "cell_type": "markdown",
   "id": "a6470b35-1d64-4344-bbe3-f3295dbd3d47",
   "metadata": {},
   "source": [
    "## Saving Subsets for Tableau"
   ]
  },
  {
   "cell_type": "markdown",
   "id": "3ff09930-2a6d-4dd7-beb4-3d647ce8fec0",
   "metadata": {},
   "source": [
    "For Tableau, I should save the data in such a way that I will be able to compare different groups of patients (such as those of different genders, diagnosed at different cancer stages, and especially the survived and non-survived groups)"
   ]
  },
  {
   "cell_type": "code",
   "execution_count": 30,
   "id": "79720bf4-7e85-4479-85b2-8341c534fbdc",
   "metadata": {},
   "outputs": [
    {
     "data": {
      "text/html": [
       "<div>\n",
       "<style scoped>\n",
       "    .dataframe tbody tr th:only-of-type {\n",
       "        vertical-align: middle;\n",
       "    }\n",
       "\n",
       "    .dataframe tbody tr th {\n",
       "        vertical-align: top;\n",
       "    }\n",
       "\n",
       "    .dataframe thead th {\n",
       "        text-align: right;\n",
       "    }\n",
       "</style>\n",
       "<table border=\"1\" class=\"dataframe\">\n",
       "  <thead>\n",
       "    <tr style=\"text-align: right;\">\n",
       "      <th></th>\n",
       "      <th>gender</th>\n",
       "      <th>country</th>\n",
       "      <th>diagnosis_date</th>\n",
       "      <th>cancer_stage</th>\n",
       "      <th>beginning_of_treatment_date</th>\n",
       "      <th>family_history</th>\n",
       "      <th>smoking_status</th>\n",
       "      <th>hypertension</th>\n",
       "      <th>asthma</th>\n",
       "      <th>cirrhosis</th>\n",
       "      <th>other_cancer</th>\n",
       "      <th>treatment_type</th>\n",
       "      <th>end_treatment_date</th>\n",
       "      <th>survived</th>\n",
       "      <th>days_to_start_treatment</th>\n",
       "      <th>days_under_treatment</th>\n",
       "      <th>treatment_duration</th>\n",
       "    </tr>\n",
       "  </thead>\n",
       "  <tbody>\n",
       "    <tr>\n",
       "      <th>0</th>\n",
       "      <td>Female</td>\n",
       "      <td>Germany</td>\n",
       "      <td>2016-04-07</td>\n",
       "      <td>Stage III</td>\n",
       "      <td>2016-04-21</td>\n",
       "      <td>False</td>\n",
       "      <td>Never Smoked</td>\n",
       "      <td>True</td>\n",
       "      <td>True</td>\n",
       "      <td>False</td>\n",
       "      <td>False</td>\n",
       "      <td>Combined</td>\n",
       "      <td>2017-11-15</td>\n",
       "      <td>False</td>\n",
       "      <td>14</td>\n",
       "      <td>573</td>\n",
       "      <td>Long</td>\n",
       "    </tr>\n",
       "    <tr>\n",
       "      <th>1</th>\n",
       "      <td>Female</td>\n",
       "      <td>Germany</td>\n",
       "      <td>2016-12-15</td>\n",
       "      <td>Stage III</td>\n",
       "      <td>2016-12-22</td>\n",
       "      <td>False</td>\n",
       "      <td>Former Smoker</td>\n",
       "      <td>True</td>\n",
       "      <td>True</td>\n",
       "      <td>False</td>\n",
       "      <td>False</td>\n",
       "      <td>Combined</td>\n",
       "      <td>2018-06-14</td>\n",
       "      <td>False</td>\n",
       "      <td>7</td>\n",
       "      <td>539</td>\n",
       "      <td>Medium</td>\n",
       "    </tr>\n",
       "    <tr>\n",
       "      <th>2</th>\n",
       "      <td>Male</td>\n",
       "      <td>Germany</td>\n",
       "      <td>2016-07-14</td>\n",
       "      <td>Stage III</td>\n",
       "      <td>2016-07-27</td>\n",
       "      <td>True</td>\n",
       "      <td>Former Smoker</td>\n",
       "      <td>False</td>\n",
       "      <td>False</td>\n",
       "      <td>False</td>\n",
       "      <td>False</td>\n",
       "      <td>Combined</td>\n",
       "      <td>2017-09-03</td>\n",
       "      <td>False</td>\n",
       "      <td>13</td>\n",
       "      <td>403</td>\n",
       "      <td>Medium</td>\n",
       "    </tr>\n",
       "    <tr>\n",
       "      <th>3</th>\n",
       "      <td>Female</td>\n",
       "      <td>Germany</td>\n",
       "      <td>2016-03-19</td>\n",
       "      <td>Stage IV</td>\n",
       "      <td>2016-03-26</td>\n",
       "      <td>False</td>\n",
       "      <td>Current Smoker</td>\n",
       "      <td>True</td>\n",
       "      <td>True</td>\n",
       "      <td>False</td>\n",
       "      <td>False</td>\n",
       "      <td>Chemotherapy</td>\n",
       "      <td>2017-04-06</td>\n",
       "      <td>False</td>\n",
       "      <td>7</td>\n",
       "      <td>376</td>\n",
       "      <td>Medium</td>\n",
       "    </tr>\n",
       "    <tr>\n",
       "      <th>4</th>\n",
       "      <td>Male</td>\n",
       "      <td>Germany</td>\n",
       "      <td>2016-08-20</td>\n",
       "      <td>Stage II</td>\n",
       "      <td>2016-08-31</td>\n",
       "      <td>False</td>\n",
       "      <td>Former Smoker</td>\n",
       "      <td>True</td>\n",
       "      <td>False</td>\n",
       "      <td>False</td>\n",
       "      <td>False</td>\n",
       "      <td>Combined</td>\n",
       "      <td>2018-01-23</td>\n",
       "      <td>False</td>\n",
       "      <td>11</td>\n",
       "      <td>510</td>\n",
       "      <td>Medium</td>\n",
       "    </tr>\n",
       "    <tr>\n",
       "      <th>...</th>\n",
       "      <td>...</td>\n",
       "      <td>...</td>\n",
       "      <td>...</td>\n",
       "      <td>...</td>\n",
       "      <td>...</td>\n",
       "      <td>...</td>\n",
       "      <td>...</td>\n",
       "      <td>...</td>\n",
       "      <td>...</td>\n",
       "      <td>...</td>\n",
       "      <td>...</td>\n",
       "      <td>...</td>\n",
       "      <td>...</td>\n",
       "      <td>...</td>\n",
       "      <td>...</td>\n",
       "      <td>...</td>\n",
       "      <td>...</td>\n",
       "    </tr>\n",
       "    <tr>\n",
       "      <th>2842399</th>\n",
       "      <td>Male</td>\n",
       "      <td>Denmark</td>\n",
       "      <td>2023-03-25</td>\n",
       "      <td>Stage IV</td>\n",
       "      <td>2023-03-28</td>\n",
       "      <td>False</td>\n",
       "      <td>Never Smoked</td>\n",
       "      <td>True</td>\n",
       "      <td>True</td>\n",
       "      <td>False</td>\n",
       "      <td>False</td>\n",
       "      <td>Combined</td>\n",
       "      <td>2023-12-18</td>\n",
       "      <td>False</td>\n",
       "      <td>3</td>\n",
       "      <td>265</td>\n",
       "      <td>Short</td>\n",
       "    </tr>\n",
       "    <tr>\n",
       "      <th>2842400</th>\n",
       "      <td>Female</td>\n",
       "      <td>Denmark</td>\n",
       "      <td>2023-05-19</td>\n",
       "      <td>Stage IV</td>\n",
       "      <td>2023-05-20</td>\n",
       "      <td>True</td>\n",
       "      <td>Never Smoked</td>\n",
       "      <td>True</td>\n",
       "      <td>False</td>\n",
       "      <td>False</td>\n",
       "      <td>True</td>\n",
       "      <td>Surgery</td>\n",
       "      <td>2024-04-09</td>\n",
       "      <td>False</td>\n",
       "      <td>1</td>\n",
       "      <td>325</td>\n",
       "      <td>Short</td>\n",
       "    </tr>\n",
       "    <tr>\n",
       "      <th>2842401</th>\n",
       "      <td>Female</td>\n",
       "      <td>Denmark</td>\n",
       "      <td>2023-03-27</td>\n",
       "      <td>Stage IV</td>\n",
       "      <td>2023-03-31</td>\n",
       "      <td>False</td>\n",
       "      <td>Passive Smoker</td>\n",
       "      <td>True</td>\n",
       "      <td>True</td>\n",
       "      <td>False</td>\n",
       "      <td>True</td>\n",
       "      <td>Radiation</td>\n",
       "      <td>2024-05-19</td>\n",
       "      <td>False</td>\n",
       "      <td>4</td>\n",
       "      <td>415</td>\n",
       "      <td>Medium</td>\n",
       "    </tr>\n",
       "    <tr>\n",
       "      <th>2842402</th>\n",
       "      <td>Male</td>\n",
       "      <td>Denmark</td>\n",
       "      <td>2023-04-11</td>\n",
       "      <td>Stage IV</td>\n",
       "      <td>2023-04-15</td>\n",
       "      <td>False</td>\n",
       "      <td>Never Smoked</td>\n",
       "      <td>True</td>\n",
       "      <td>False</td>\n",
       "      <td>True</td>\n",
       "      <td>False</td>\n",
       "      <td>Surgery</td>\n",
       "      <td>2023-10-11</td>\n",
       "      <td>False</td>\n",
       "      <td>4</td>\n",
       "      <td>179</td>\n",
       "      <td>Short</td>\n",
       "    </tr>\n",
       "    <tr>\n",
       "      <th>2842403</th>\n",
       "      <td>Male</td>\n",
       "      <td>Denmark</td>\n",
       "      <td>2023-01-07</td>\n",
       "      <td>Stage IV</td>\n",
       "      <td>2023-01-08</td>\n",
       "      <td>True</td>\n",
       "      <td>Never Smoked</td>\n",
       "      <td>False</td>\n",
       "      <td>False</td>\n",
       "      <td>False</td>\n",
       "      <td>False</td>\n",
       "      <td>Chemotherapy</td>\n",
       "      <td>2024-02-21</td>\n",
       "      <td>True</td>\n",
       "      <td>1</td>\n",
       "      <td>409</td>\n",
       "      <td>Medium</td>\n",
       "    </tr>\n",
       "  </tbody>\n",
       "</table>\n",
       "<p>2842404 rows × 17 columns</p>\n",
       "</div>"
      ],
      "text/plain": [
       "         gender  country diagnosis_date cancer_stage  \\\n",
       "0        Female  Germany     2016-04-07    Stage III   \n",
       "1        Female  Germany     2016-12-15    Stage III   \n",
       "2          Male  Germany     2016-07-14    Stage III   \n",
       "3        Female  Germany     2016-03-19     Stage IV   \n",
       "4          Male  Germany     2016-08-20     Stage II   \n",
       "...         ...      ...            ...          ...   \n",
       "2842399    Male  Denmark     2023-03-25     Stage IV   \n",
       "2842400  Female  Denmark     2023-05-19     Stage IV   \n",
       "2842401  Female  Denmark     2023-03-27     Stage IV   \n",
       "2842402    Male  Denmark     2023-04-11     Stage IV   \n",
       "2842403    Male  Denmark     2023-01-07     Stage IV   \n",
       "\n",
       "        beginning_of_treatment_date  family_history  smoking_status  \\\n",
       "0                        2016-04-21           False    Never Smoked   \n",
       "1                        2016-12-22           False   Former Smoker   \n",
       "2                        2016-07-27            True   Former Smoker   \n",
       "3                        2016-03-26           False  Current Smoker   \n",
       "4                        2016-08-31           False   Former Smoker   \n",
       "...                             ...             ...             ...   \n",
       "2842399                  2023-03-28           False    Never Smoked   \n",
       "2842400                  2023-05-20            True    Never Smoked   \n",
       "2842401                  2023-03-31           False  Passive Smoker   \n",
       "2842402                  2023-04-15           False    Never Smoked   \n",
       "2842403                  2023-01-08            True    Never Smoked   \n",
       "\n",
       "         hypertension  asthma  cirrhosis  other_cancer treatment_type  \\\n",
       "0                True    True      False         False       Combined   \n",
       "1                True    True      False         False       Combined   \n",
       "2               False   False      False         False       Combined   \n",
       "3                True    True      False         False   Chemotherapy   \n",
       "4                True   False      False         False       Combined   \n",
       "...               ...     ...        ...           ...            ...   \n",
       "2842399          True    True      False         False       Combined   \n",
       "2842400          True   False      False          True        Surgery   \n",
       "2842401          True    True      False          True      Radiation   \n",
       "2842402          True   False       True         False        Surgery   \n",
       "2842403         False   False      False         False   Chemotherapy   \n",
       "\n",
       "        end_treatment_date  survived  days_to_start_treatment  \\\n",
       "0               2017-11-15     False                       14   \n",
       "1               2018-06-14     False                        7   \n",
       "2               2017-09-03     False                       13   \n",
       "3               2017-04-06     False                        7   \n",
       "4               2018-01-23     False                       11   \n",
       "...                    ...       ...                      ...   \n",
       "2842399         2023-12-18     False                        3   \n",
       "2842400         2024-04-09     False                        1   \n",
       "2842401         2024-05-19     False                        4   \n",
       "2842402         2023-10-11     False                        4   \n",
       "2842403         2024-02-21      True                        1   \n",
       "\n",
       "         days_under_treatment treatment_duration  \n",
       "0                         573               Long  \n",
       "1                         539             Medium  \n",
       "2                         403             Medium  \n",
       "3                         376             Medium  \n",
       "4                         510             Medium  \n",
       "...                       ...                ...  \n",
       "2842399                   265              Short  \n",
       "2842400                   325              Short  \n",
       "2842401                   415             Medium  \n",
       "2842402                   179              Short  \n",
       "2842403                   409             Medium  \n",
       "\n",
       "[2842404 rows x 17 columns]"
      ]
     },
     "execution_count": 30,
     "metadata": {},
     "output_type": "execute_result"
    }
   ],
   "source": [
    "df.drop(columns=['age', 'bmi', 'cholesterol_level', 'Country GDP (per capita)', 'Country life expectancy', 'Country population'], inplace=True)\n",
    "\n",
    "df"
   ]
  },
  {
   "cell_type": "code",
   "execution_count": 31,
   "id": "9ee46b90-7af9-4136-b012-12da9fdb8743",
   "metadata": {},
   "outputs": [],
   "source": [
    "# Create a sample of the data so it can be saved and taken as a csv:\n",
    "\n",
    "## Set Seed\n",
    "np.random.seed(4)\n",
    "\n",
    "## Create a list for dividing dataset into big and small sets\n",
    "dev = np.random.rand(len(df)) <= 0.8\n",
    "\n",
    "## Create small sample:\n",
    "small_df = df[~dev]\n",
    "\n",
    "## Create big sample\n",
    "big_df = df[dev]"
   ]
  },
  {
   "cell_type": "code",
   "execution_count": 32,
   "id": "adad9a86-752a-45ab-9da1-19c94fa76f20",
   "metadata": {},
   "outputs": [
    {
     "name": "stdout",
     "output_type": "stream",
     "text": [
      "observations in dataframe: 2842404\n",
      "observations in small sample: 568971\n",
      "observations in big sample: 2273433\n",
      "observations in both samples: 2842404\n"
     ]
    }
   ],
   "source": [
    "# Check \n",
    "print(f'observations in dataframe: {len(df)}')\n",
    "print(f'observations in small sample: {len(small_df)}')\n",
    "print(f'observations in big sample: {len(big_df)}')\n",
    "print(f'observations in both samples: {len(small_df) + len(big_df)}')"
   ]
  },
  {
   "cell_type": "code",
   "execution_count": 33,
   "id": "60ea4236-4b30-422b-87ac-16016a44709f",
   "metadata": {},
   "outputs": [
    {
     "data": {
      "text/html": [
       "<div>\n",
       "<style scoped>\n",
       "    .dataframe tbody tr th:only-of-type {\n",
       "        vertical-align: middle;\n",
       "    }\n",
       "\n",
       "    .dataframe tbody tr th {\n",
       "        vertical-align: top;\n",
       "    }\n",
       "\n",
       "    .dataframe thead th {\n",
       "        text-align: right;\n",
       "    }\n",
       "</style>\n",
       "<table border=\"1\" class=\"dataframe\">\n",
       "  <thead>\n",
       "    <tr style=\"text-align: right;\">\n",
       "      <th></th>\n",
       "      <th>gender</th>\n",
       "      <th>country</th>\n",
       "      <th>diagnosis_date</th>\n",
       "      <th>cancer_stage</th>\n",
       "      <th>beginning_of_treatment_date</th>\n",
       "      <th>family_history</th>\n",
       "      <th>smoking_status</th>\n",
       "      <th>hypertension</th>\n",
       "      <th>asthma</th>\n",
       "      <th>cirrhosis</th>\n",
       "      <th>other_cancer</th>\n",
       "      <th>treatment_type</th>\n",
       "      <th>end_treatment_date</th>\n",
       "      <th>survived</th>\n",
       "      <th>days_to_start_treatment</th>\n",
       "      <th>days_under_treatment</th>\n",
       "      <th>treatment_duration</th>\n",
       "    </tr>\n",
       "  </thead>\n",
       "  <tbody>\n",
       "    <tr>\n",
       "      <th>0</th>\n",
       "      <td>Female</td>\n",
       "      <td>Germany</td>\n",
       "      <td>2016-04-07</td>\n",
       "      <td>Stage III</td>\n",
       "      <td>2016-04-21</td>\n",
       "      <td>False</td>\n",
       "      <td>Never Smoked</td>\n",
       "      <td>True</td>\n",
       "      <td>True</td>\n",
       "      <td>False</td>\n",
       "      <td>False</td>\n",
       "      <td>Combined</td>\n",
       "      <td>2017-11-15</td>\n",
       "      <td>False</td>\n",
       "      <td>14</td>\n",
       "      <td>573</td>\n",
       "      <td>Long</td>\n",
       "    </tr>\n",
       "    <tr>\n",
       "      <th>2</th>\n",
       "      <td>Male</td>\n",
       "      <td>Germany</td>\n",
       "      <td>2016-07-14</td>\n",
       "      <td>Stage III</td>\n",
       "      <td>2016-07-27</td>\n",
       "      <td>True</td>\n",
       "      <td>Former Smoker</td>\n",
       "      <td>False</td>\n",
       "      <td>False</td>\n",
       "      <td>False</td>\n",
       "      <td>False</td>\n",
       "      <td>Combined</td>\n",
       "      <td>2017-09-03</td>\n",
       "      <td>False</td>\n",
       "      <td>13</td>\n",
       "      <td>403</td>\n",
       "      <td>Medium</td>\n",
       "    </tr>\n",
       "    <tr>\n",
       "      <th>6</th>\n",
       "      <td>Female</td>\n",
       "      <td>Germany</td>\n",
       "      <td>2016-04-23</td>\n",
       "      <td>Stage II</td>\n",
       "      <td>2016-05-07</td>\n",
       "      <td>True</td>\n",
       "      <td>Current Smoker</td>\n",
       "      <td>True</td>\n",
       "      <td>True</td>\n",
       "      <td>True</td>\n",
       "      <td>False</td>\n",
       "      <td>Combined</td>\n",
       "      <td>2017-08-17</td>\n",
       "      <td>False</td>\n",
       "      <td>14</td>\n",
       "      <td>467</td>\n",
       "      <td>Medium</td>\n",
       "    </tr>\n",
       "    <tr>\n",
       "      <th>12</th>\n",
       "      <td>Female</td>\n",
       "      <td>Germany</td>\n",
       "      <td>2016-12-16</td>\n",
       "      <td>Stage I</td>\n",
       "      <td>2017-01-13</td>\n",
       "      <td>True</td>\n",
       "      <td>Passive Smoker</td>\n",
       "      <td>True</td>\n",
       "      <td>False</td>\n",
       "      <td>False</td>\n",
       "      <td>False</td>\n",
       "      <td>Surgery</td>\n",
       "      <td>2018-08-29</td>\n",
       "      <td>True</td>\n",
       "      <td>28</td>\n",
       "      <td>593</td>\n",
       "      <td>Long</td>\n",
       "    </tr>\n",
       "    <tr>\n",
       "      <th>13</th>\n",
       "      <td>Female</td>\n",
       "      <td>Germany</td>\n",
       "      <td>2016-03-30</td>\n",
       "      <td>Stage IV</td>\n",
       "      <td>2016-03-31</td>\n",
       "      <td>True</td>\n",
       "      <td>Current Smoker</td>\n",
       "      <td>True</td>\n",
       "      <td>True</td>\n",
       "      <td>False</td>\n",
       "      <td>False</td>\n",
       "      <td>Radiation</td>\n",
       "      <td>2017-07-18</td>\n",
       "      <td>False</td>\n",
       "      <td>1</td>\n",
       "      <td>474</td>\n",
       "      <td>Medium</td>\n",
       "    </tr>\n",
       "    <tr>\n",
       "      <th>...</th>\n",
       "      <td>...</td>\n",
       "      <td>...</td>\n",
       "      <td>...</td>\n",
       "      <td>...</td>\n",
       "      <td>...</td>\n",
       "      <td>...</td>\n",
       "      <td>...</td>\n",
       "      <td>...</td>\n",
       "      <td>...</td>\n",
       "      <td>...</td>\n",
       "      <td>...</td>\n",
       "      <td>...</td>\n",
       "      <td>...</td>\n",
       "      <td>...</td>\n",
       "      <td>...</td>\n",
       "      <td>...</td>\n",
       "      <td>...</td>\n",
       "    </tr>\n",
       "    <tr>\n",
       "      <th>2842392</th>\n",
       "      <td>Male</td>\n",
       "      <td>Denmark</td>\n",
       "      <td>2023-03-28</td>\n",
       "      <td>Stage III</td>\n",
       "      <td>2023-04-02</td>\n",
       "      <td>False</td>\n",
       "      <td>Former Smoker</td>\n",
       "      <td>True</td>\n",
       "      <td>False</td>\n",
       "      <td>False</td>\n",
       "      <td>False</td>\n",
       "      <td>Surgery</td>\n",
       "      <td>2023-12-19</td>\n",
       "      <td>False</td>\n",
       "      <td>5</td>\n",
       "      <td>261</td>\n",
       "      <td>Short</td>\n",
       "    </tr>\n",
       "    <tr>\n",
       "      <th>2842395</th>\n",
       "      <td>Male</td>\n",
       "      <td>Denmark</td>\n",
       "      <td>2023-02-02</td>\n",
       "      <td>Stage II</td>\n",
       "      <td>2023-02-12</td>\n",
       "      <td>False</td>\n",
       "      <td>Passive Smoker</td>\n",
       "      <td>False</td>\n",
       "      <td>True</td>\n",
       "      <td>True</td>\n",
       "      <td>False</td>\n",
       "      <td>Chemotherapy</td>\n",
       "      <td>2024-05-23</td>\n",
       "      <td>False</td>\n",
       "      <td>10</td>\n",
       "      <td>466</td>\n",
       "      <td>Medium</td>\n",
       "    </tr>\n",
       "    <tr>\n",
       "      <th>2842397</th>\n",
       "      <td>Male</td>\n",
       "      <td>Denmark</td>\n",
       "      <td>2023-01-06</td>\n",
       "      <td>Stage IV</td>\n",
       "      <td>2023-01-11</td>\n",
       "      <td>True</td>\n",
       "      <td>Passive Smoker</td>\n",
       "      <td>True</td>\n",
       "      <td>True</td>\n",
       "      <td>True</td>\n",
       "      <td>False</td>\n",
       "      <td>Chemotherapy</td>\n",
       "      <td>2023-08-29</td>\n",
       "      <td>False</td>\n",
       "      <td>5</td>\n",
       "      <td>230</td>\n",
       "      <td>Short</td>\n",
       "    </tr>\n",
       "    <tr>\n",
       "      <th>2842399</th>\n",
       "      <td>Male</td>\n",
       "      <td>Denmark</td>\n",
       "      <td>2023-03-25</td>\n",
       "      <td>Stage IV</td>\n",
       "      <td>2023-03-28</td>\n",
       "      <td>False</td>\n",
       "      <td>Never Smoked</td>\n",
       "      <td>True</td>\n",
       "      <td>True</td>\n",
       "      <td>False</td>\n",
       "      <td>False</td>\n",
       "      <td>Combined</td>\n",
       "      <td>2023-12-18</td>\n",
       "      <td>False</td>\n",
       "      <td>3</td>\n",
       "      <td>265</td>\n",
       "      <td>Short</td>\n",
       "    </tr>\n",
       "    <tr>\n",
       "      <th>2842401</th>\n",
       "      <td>Female</td>\n",
       "      <td>Denmark</td>\n",
       "      <td>2023-03-27</td>\n",
       "      <td>Stage IV</td>\n",
       "      <td>2023-03-31</td>\n",
       "      <td>False</td>\n",
       "      <td>Passive Smoker</td>\n",
       "      <td>True</td>\n",
       "      <td>True</td>\n",
       "      <td>False</td>\n",
       "      <td>True</td>\n",
       "      <td>Radiation</td>\n",
       "      <td>2024-05-19</td>\n",
       "      <td>False</td>\n",
       "      <td>4</td>\n",
       "      <td>415</td>\n",
       "      <td>Medium</td>\n",
       "    </tr>\n",
       "  </tbody>\n",
       "</table>\n",
       "<p>568971 rows × 17 columns</p>\n",
       "</div>"
      ],
      "text/plain": [
       "         gender  country diagnosis_date cancer_stage  \\\n",
       "0        Female  Germany     2016-04-07    Stage III   \n",
       "2          Male  Germany     2016-07-14    Stage III   \n",
       "6        Female  Germany     2016-04-23     Stage II   \n",
       "12       Female  Germany     2016-12-16      Stage I   \n",
       "13       Female  Germany     2016-03-30     Stage IV   \n",
       "...         ...      ...            ...          ...   \n",
       "2842392    Male  Denmark     2023-03-28    Stage III   \n",
       "2842395    Male  Denmark     2023-02-02     Stage II   \n",
       "2842397    Male  Denmark     2023-01-06     Stage IV   \n",
       "2842399    Male  Denmark     2023-03-25     Stage IV   \n",
       "2842401  Female  Denmark     2023-03-27     Stage IV   \n",
       "\n",
       "        beginning_of_treatment_date  family_history  smoking_status  \\\n",
       "0                        2016-04-21           False    Never Smoked   \n",
       "2                        2016-07-27            True   Former Smoker   \n",
       "6                        2016-05-07            True  Current Smoker   \n",
       "12                       2017-01-13            True  Passive Smoker   \n",
       "13                       2016-03-31            True  Current Smoker   \n",
       "...                             ...             ...             ...   \n",
       "2842392                  2023-04-02           False   Former Smoker   \n",
       "2842395                  2023-02-12           False  Passive Smoker   \n",
       "2842397                  2023-01-11            True  Passive Smoker   \n",
       "2842399                  2023-03-28           False    Never Smoked   \n",
       "2842401                  2023-03-31           False  Passive Smoker   \n",
       "\n",
       "         hypertension  asthma  cirrhosis  other_cancer treatment_type  \\\n",
       "0                True    True      False         False       Combined   \n",
       "2               False   False      False         False       Combined   \n",
       "6                True    True       True         False       Combined   \n",
       "12               True   False      False         False        Surgery   \n",
       "13               True    True      False         False      Radiation   \n",
       "...               ...     ...        ...           ...            ...   \n",
       "2842392          True   False      False         False        Surgery   \n",
       "2842395         False    True       True         False   Chemotherapy   \n",
       "2842397          True    True       True         False   Chemotherapy   \n",
       "2842399          True    True      False         False       Combined   \n",
       "2842401          True    True      False          True      Radiation   \n",
       "\n",
       "        end_treatment_date  survived  days_to_start_treatment  \\\n",
       "0               2017-11-15     False                       14   \n",
       "2               2017-09-03     False                       13   \n",
       "6               2017-08-17     False                       14   \n",
       "12              2018-08-29      True                       28   \n",
       "13              2017-07-18     False                        1   \n",
       "...                    ...       ...                      ...   \n",
       "2842392         2023-12-19     False                        5   \n",
       "2842395         2024-05-23     False                       10   \n",
       "2842397         2023-08-29     False                        5   \n",
       "2842399         2023-12-18     False                        3   \n",
       "2842401         2024-05-19     False                        4   \n",
       "\n",
       "         days_under_treatment treatment_duration  \n",
       "0                         573               Long  \n",
       "2                         403             Medium  \n",
       "6                         467             Medium  \n",
       "12                        593               Long  \n",
       "13                        474             Medium  \n",
       "...                       ...                ...  \n",
       "2842392                   261              Short  \n",
       "2842395                   466             Medium  \n",
       "2842397                   230              Short  \n",
       "2842399                   265              Short  \n",
       "2842401                   415             Medium  \n",
       "\n",
       "[568971 rows x 17 columns]"
      ]
     },
     "execution_count": 33,
     "metadata": {},
     "output_type": "execute_result"
    }
   ],
   "source": [
    "small_df"
   ]
  },
  {
   "cell_type": "code",
   "execution_count": 34,
   "id": "c8a71d84-633b-43ca-b81b-64263c905610",
   "metadata": {},
   "outputs": [],
   "source": [
    "# Small_df will be saved for Tableau Exploration and StoryBoard\n",
    "small_df.to_csv(os.path.join(path, \"02 Data\", \"Prepared Data\", \"Linear_regression_sample.csv\"))"
   ]
  },
  {
   "cell_type": "markdown",
   "id": "d1db0019-3177-4f93-8085-2ffa0d53735a",
   "metadata": {},
   "source": [
    "Since the sample created a strange deviation in the trendline for survived patients, I am also going to just save the df_survived dataframe so I have the same (and more accurate) trend from the above analysis"
   ]
  },
  {
   "cell_type": "code",
   "execution_count": 35,
   "id": "b84ff334-3963-4f30-8fc3-9cb9c980480d",
   "metadata": {},
   "outputs": [
    {
     "name": "stderr",
     "output_type": "stream",
     "text": [
      "C:\\Users\\kyles\\AppData\\Local\\Temp\\ipykernel_26464\\1153090638.py:1: SettingWithCopyWarning: \n",
      "A value is trying to be set on a copy of a slice from a DataFrame\n",
      "\n",
      "See the caveats in the documentation: https://pandas.pydata.org/pandas-docs/stable/user_guide/indexing.html#returning-a-view-versus-a-copy\n",
      "  df_survived.drop(columns=['age', 'bmi', 'cholesterol_level', 'Country GDP (per capita)', 'Country life expectancy', 'Country population'], inplace=True)\n"
     ]
    },
    {
     "data": {
      "text/html": [
       "<div>\n",
       "<style scoped>\n",
       "    .dataframe tbody tr th:only-of-type {\n",
       "        vertical-align: middle;\n",
       "    }\n",
       "\n",
       "    .dataframe tbody tr th {\n",
       "        vertical-align: top;\n",
       "    }\n",
       "\n",
       "    .dataframe thead th {\n",
       "        text-align: right;\n",
       "    }\n",
       "</style>\n",
       "<table border=\"1\" class=\"dataframe\">\n",
       "  <thead>\n",
       "    <tr style=\"text-align: right;\">\n",
       "      <th></th>\n",
       "      <th>gender</th>\n",
       "      <th>country</th>\n",
       "      <th>diagnosis_date</th>\n",
       "      <th>cancer_stage</th>\n",
       "      <th>beginning_of_treatment_date</th>\n",
       "      <th>family_history</th>\n",
       "      <th>smoking_status</th>\n",
       "      <th>hypertension</th>\n",
       "      <th>asthma</th>\n",
       "      <th>cirrhosis</th>\n",
       "      <th>other_cancer</th>\n",
       "      <th>treatment_type</th>\n",
       "      <th>end_treatment_date</th>\n",
       "      <th>survived</th>\n",
       "      <th>days_to_start_treatment</th>\n",
       "      <th>days_under_treatment</th>\n",
       "      <th>treatment_duration</th>\n",
       "    </tr>\n",
       "  </thead>\n",
       "  <tbody>\n",
       "    <tr>\n",
       "      <th>8</th>\n",
       "      <td>Male</td>\n",
       "      <td>Germany</td>\n",
       "      <td>2016-04-13</td>\n",
       "      <td>Stage II</td>\n",
       "      <td>2016-04-23</td>\n",
       "      <td>True</td>\n",
       "      <td>Former Smoker</td>\n",
       "      <td>True</td>\n",
       "      <td>True</td>\n",
       "      <td>False</td>\n",
       "      <td>False</td>\n",
       "      <td>Radiation</td>\n",
       "      <td>2017-09-24</td>\n",
       "      <td>True</td>\n",
       "      <td>10</td>\n",
       "      <td>519</td>\n",
       "      <td>Medium</td>\n",
       "    </tr>\n",
       "    <tr>\n",
       "      <th>12</th>\n",
       "      <td>Female</td>\n",
       "      <td>Germany</td>\n",
       "      <td>2016-12-16</td>\n",
       "      <td>Stage I</td>\n",
       "      <td>2017-01-13</td>\n",
       "      <td>True</td>\n",
       "      <td>Passive Smoker</td>\n",
       "      <td>True</td>\n",
       "      <td>False</td>\n",
       "      <td>False</td>\n",
       "      <td>False</td>\n",
       "      <td>Surgery</td>\n",
       "      <td>2018-08-29</td>\n",
       "      <td>True</td>\n",
       "      <td>28</td>\n",
       "      <td>593</td>\n",
       "      <td>Long</td>\n",
       "    </tr>\n",
       "    <tr>\n",
       "      <th>16</th>\n",
       "      <td>Male</td>\n",
       "      <td>Germany</td>\n",
       "      <td>2016-02-28</td>\n",
       "      <td>Stage III</td>\n",
       "      <td>2016-03-02</td>\n",
       "      <td>True</td>\n",
       "      <td>Passive Smoker</td>\n",
       "      <td>True</td>\n",
       "      <td>False</td>\n",
       "      <td>True</td>\n",
       "      <td>False</td>\n",
       "      <td>Surgery</td>\n",
       "      <td>2016-09-26</td>\n",
       "      <td>True</td>\n",
       "      <td>3</td>\n",
       "      <td>208</td>\n",
       "      <td>Short</td>\n",
       "    </tr>\n",
       "    <tr>\n",
       "      <th>17</th>\n",
       "      <td>Female</td>\n",
       "      <td>Germany</td>\n",
       "      <td>2016-05-09</td>\n",
       "      <td>Stage IV</td>\n",
       "      <td>2016-05-10</td>\n",
       "      <td>True</td>\n",
       "      <td>Current Smoker</td>\n",
       "      <td>False</td>\n",
       "      <td>False</td>\n",
       "      <td>False</td>\n",
       "      <td>False</td>\n",
       "      <td>Chemotherapy</td>\n",
       "      <td>2017-08-14</td>\n",
       "      <td>True</td>\n",
       "      <td>1</td>\n",
       "      <td>461</td>\n",
       "      <td>Medium</td>\n",
       "    </tr>\n",
       "    <tr>\n",
       "      <th>18</th>\n",
       "      <td>Male</td>\n",
       "      <td>Germany</td>\n",
       "      <td>2016-09-15</td>\n",
       "      <td>Stage III</td>\n",
       "      <td>2016-09-25</td>\n",
       "      <td>True</td>\n",
       "      <td>Passive Smoker</td>\n",
       "      <td>True</td>\n",
       "      <td>True</td>\n",
       "      <td>False</td>\n",
       "      <td>False</td>\n",
       "      <td>Radiation</td>\n",
       "      <td>2018-07-09</td>\n",
       "      <td>True</td>\n",
       "      <td>10</td>\n",
       "      <td>652</td>\n",
       "      <td>Long</td>\n",
       "    </tr>\n",
       "    <tr>\n",
       "      <th>...</th>\n",
       "      <td>...</td>\n",
       "      <td>...</td>\n",
       "      <td>...</td>\n",
       "      <td>...</td>\n",
       "      <td>...</td>\n",
       "      <td>...</td>\n",
       "      <td>...</td>\n",
       "      <td>...</td>\n",
       "      <td>...</td>\n",
       "      <td>...</td>\n",
       "      <td>...</td>\n",
       "      <td>...</td>\n",
       "      <td>...</td>\n",
       "      <td>...</td>\n",
       "      <td>...</td>\n",
       "      <td>...</td>\n",
       "      <td>...</td>\n",
       "    </tr>\n",
       "    <tr>\n",
       "      <th>2842374</th>\n",
       "      <td>Female</td>\n",
       "      <td>Denmark</td>\n",
       "      <td>2023-02-25</td>\n",
       "      <td>Stage III</td>\n",
       "      <td>2023-03-05</td>\n",
       "      <td>False</td>\n",
       "      <td>Never Smoked</td>\n",
       "      <td>True</td>\n",
       "      <td>True</td>\n",
       "      <td>False</td>\n",
       "      <td>False</td>\n",
       "      <td>Surgery</td>\n",
       "      <td>2024-04-30</td>\n",
       "      <td>True</td>\n",
       "      <td>8</td>\n",
       "      <td>422</td>\n",
       "      <td>Medium</td>\n",
       "    </tr>\n",
       "    <tr>\n",
       "      <th>2842382</th>\n",
       "      <td>Female</td>\n",
       "      <td>Denmark</td>\n",
       "      <td>2023-07-03</td>\n",
       "      <td>Stage III</td>\n",
       "      <td>2023-07-05</td>\n",
       "      <td>False</td>\n",
       "      <td>Never Smoked</td>\n",
       "      <td>True</td>\n",
       "      <td>False</td>\n",
       "      <td>False</td>\n",
       "      <td>True</td>\n",
       "      <td>Combined</td>\n",
       "      <td>2024-01-22</td>\n",
       "      <td>True</td>\n",
       "      <td>2</td>\n",
       "      <td>201</td>\n",
       "      <td>Short</td>\n",
       "    </tr>\n",
       "    <tr>\n",
       "      <th>2842386</th>\n",
       "      <td>Female</td>\n",
       "      <td>Denmark</td>\n",
       "      <td>2023-01-17</td>\n",
       "      <td>Stage III</td>\n",
       "      <td>2023-01-27</td>\n",
       "      <td>True</td>\n",
       "      <td>Passive Smoker</td>\n",
       "      <td>True</td>\n",
       "      <td>False</td>\n",
       "      <td>False</td>\n",
       "      <td>False</td>\n",
       "      <td>Chemotherapy</td>\n",
       "      <td>2024-04-10</td>\n",
       "      <td>True</td>\n",
       "      <td>10</td>\n",
       "      <td>439</td>\n",
       "      <td>Medium</td>\n",
       "    </tr>\n",
       "    <tr>\n",
       "      <th>2842389</th>\n",
       "      <td>Female</td>\n",
       "      <td>Denmark</td>\n",
       "      <td>2023-01-13</td>\n",
       "      <td>Stage III</td>\n",
       "      <td>2023-01-17</td>\n",
       "      <td>False</td>\n",
       "      <td>Former Smoker</td>\n",
       "      <td>True</td>\n",
       "      <td>True</td>\n",
       "      <td>False</td>\n",
       "      <td>False</td>\n",
       "      <td>Combined</td>\n",
       "      <td>2024-03-02</td>\n",
       "      <td>True</td>\n",
       "      <td>4</td>\n",
       "      <td>410</td>\n",
       "      <td>Medium</td>\n",
       "    </tr>\n",
       "    <tr>\n",
       "      <th>2842403</th>\n",
       "      <td>Male</td>\n",
       "      <td>Denmark</td>\n",
       "      <td>2023-01-07</td>\n",
       "      <td>Stage IV</td>\n",
       "      <td>2023-01-08</td>\n",
       "      <td>True</td>\n",
       "      <td>Never Smoked</td>\n",
       "      <td>False</td>\n",
       "      <td>False</td>\n",
       "      <td>False</td>\n",
       "      <td>False</td>\n",
       "      <td>Chemotherapy</td>\n",
       "      <td>2024-02-21</td>\n",
       "      <td>True</td>\n",
       "      <td>1</td>\n",
       "      <td>409</td>\n",
       "      <td>Medium</td>\n",
       "    </tr>\n",
       "  </tbody>\n",
       "</table>\n",
       "<p>624605 rows × 17 columns</p>\n",
       "</div>"
      ],
      "text/plain": [
       "         gender  country diagnosis_date cancer_stage  \\\n",
       "8          Male  Germany     2016-04-13     Stage II   \n",
       "12       Female  Germany     2016-12-16      Stage I   \n",
       "16         Male  Germany     2016-02-28    Stage III   \n",
       "17       Female  Germany     2016-05-09     Stage IV   \n",
       "18         Male  Germany     2016-09-15    Stage III   \n",
       "...         ...      ...            ...          ...   \n",
       "2842374  Female  Denmark     2023-02-25    Stage III   \n",
       "2842382  Female  Denmark     2023-07-03    Stage III   \n",
       "2842386  Female  Denmark     2023-01-17    Stage III   \n",
       "2842389  Female  Denmark     2023-01-13    Stage III   \n",
       "2842403    Male  Denmark     2023-01-07     Stage IV   \n",
       "\n",
       "        beginning_of_treatment_date  family_history  smoking_status  \\\n",
       "8                        2016-04-23            True   Former Smoker   \n",
       "12                       2017-01-13            True  Passive Smoker   \n",
       "16                       2016-03-02            True  Passive Smoker   \n",
       "17                       2016-05-10            True  Current Smoker   \n",
       "18                       2016-09-25            True  Passive Smoker   \n",
       "...                             ...             ...             ...   \n",
       "2842374                  2023-03-05           False    Never Smoked   \n",
       "2842382                  2023-07-05           False    Never Smoked   \n",
       "2842386                  2023-01-27            True  Passive Smoker   \n",
       "2842389                  2023-01-17           False   Former Smoker   \n",
       "2842403                  2023-01-08            True    Never Smoked   \n",
       "\n",
       "         hypertension  asthma  cirrhosis  other_cancer treatment_type  \\\n",
       "8                True    True      False         False      Radiation   \n",
       "12               True   False      False         False        Surgery   \n",
       "16               True   False       True         False        Surgery   \n",
       "17              False   False      False         False   Chemotherapy   \n",
       "18               True    True      False         False      Radiation   \n",
       "...               ...     ...        ...           ...            ...   \n",
       "2842374          True    True      False         False        Surgery   \n",
       "2842382          True   False      False          True       Combined   \n",
       "2842386          True   False      False         False   Chemotherapy   \n",
       "2842389          True    True      False         False       Combined   \n",
       "2842403         False   False      False         False   Chemotherapy   \n",
       "\n",
       "        end_treatment_date  survived  days_to_start_treatment  \\\n",
       "8               2017-09-24      True                       10   \n",
       "12              2018-08-29      True                       28   \n",
       "16              2016-09-26      True                        3   \n",
       "17              2017-08-14      True                        1   \n",
       "18              2018-07-09      True                       10   \n",
       "...                    ...       ...                      ...   \n",
       "2842374         2024-04-30      True                        8   \n",
       "2842382         2024-01-22      True                        2   \n",
       "2842386         2024-04-10      True                       10   \n",
       "2842389         2024-03-02      True                        4   \n",
       "2842403         2024-02-21      True                        1   \n",
       "\n",
       "         days_under_treatment treatment_duration  \n",
       "8                         519             Medium  \n",
       "12                        593               Long  \n",
       "16                        208              Short  \n",
       "17                        461             Medium  \n",
       "18                        652               Long  \n",
       "...                       ...                ...  \n",
       "2842374                   422             Medium  \n",
       "2842382                   201              Short  \n",
       "2842386                   439             Medium  \n",
       "2842389                   410             Medium  \n",
       "2842403                   409             Medium  \n",
       "\n",
       "[624605 rows x 17 columns]"
      ]
     },
     "execution_count": 35,
     "metadata": {},
     "output_type": "execute_result"
    }
   ],
   "source": [
    "df_survived.drop(columns=['age', 'bmi', 'cholesterol_level', 'Country GDP (per capita)', 'Country life expectancy', 'Country population'], inplace=True)\n",
    "\n",
    "df_survived"
   ]
  },
  {
   "cell_type": "code",
   "execution_count": null,
   "id": "add2fcc8-3710-473f-9f50-0a12434f63c5",
   "metadata": {},
   "outputs": [],
   "source": [
    "df_survived.to_csv(os.path.join(path, \"02 Data\", \"Prepared Data\", \"Linear_regression_survived_only.csv\"))"
   ]
  }
 ],
 "metadata": {
  "kernelspec": {
   "display_name": "Python 3 (ipykernel)",
   "language": "python",
   "name": "python3"
  },
  "language_info": {
   "codemirror_mode": {
    "name": "ipython",
    "version": 3
   },
   "file_extension": ".py",
   "mimetype": "text/x-python",
   "name": "python",
   "nbconvert_exporter": "python",
   "pygments_lexer": "ipython3",
   "version": "3.11.7"
  }
 },
 "nbformat": 4,
 "nbformat_minor": 5
}
